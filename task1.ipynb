{
  "nbformat": 4,
  "nbformat_minor": 0,
  "metadata": {
    "colab": {
      "provenance": [],
      "authorship_tag": "ABX9TyPcLZ2B5Vm/Eie6tFiQx2TQ",
      "include_colab_link": true
    },
    "kernelspec": {
      "name": "python3",
      "display_name": "Python 3"
    },
    "language_info": {
      "name": "python"
    }
  },
  "cells": [
    {
      "cell_type": "markdown",
      "metadata": {
        "id": "view-in-github",
        "colab_type": "text"
      },
      "source": [
        "<a href=\"https://colab.research.google.com/github/het345/racingtasks/blob/main/task1.ipynb\" target=\"_parent\"><img src=\"https://colab.research.google.com/assets/colab-badge.svg\" alt=\"Open In Colab\"/></a>"
      ]
    },
    {
      "cell_type": "code",
      "execution_count": null,
      "metadata": {
        "colab": {
          "base_uri": "https://localhost:8080/"
        },
        "id": "AFQkOBcnuQ6H",
        "outputId": "9738965f-3886-4adb-b5c9-a151a9f0ad31"
      },
      "outputs": [
        {
          "output_type": "stream",
          "name": "stdout",
          "text": [
            "enter a number8\n",
            "even\n"
          ]
        }
      ],
      "source": [
        "a=int(input(\"enter a number\"))\n",
        "if (a%2==0):\n",
        "  print(\"even\")\n",
        "else:\n",
        "    print(\"odd\")"
      ]
    },
    {
      "cell_type": "code",
      "source": [
        "from posixpath import split\n",
        "x,y,z=input(\"enter three numbers\").split()\n",
        "if(x>y and x>z):\n",
        "  print(x)\n",
        "elif(y>z and y>x):\n",
        "  print(y)\n",
        "else:\n",
        "  print(z)"
      ],
      "metadata": {
        "colab": {
          "base_uri": "https://localhost:8080/"
        },
        "id": "n_neGRybumY-",
        "outputId": "7db07460-31e3-44b9-c498-9fd1f7cce9f4"
      },
      "execution_count": null,
      "outputs": [
        {
          "output_type": "stream",
          "name": "stdout",
          "text": [
            "enter three numbers34 43 23\n",
            "43\n"
          ]
        }
      ]
    },
    {
      "cell_type": "code",
      "source": [
        "a=input(\"enter operand\")\n",
        "b,c=map(int,(input(\"enter two numbers\")).split())\n",
        "if(a==\"+\"):\n",
        "  print(b+c)\n",
        "elif(a==\"-\"):\n",
        "  print(a-b)\n",
        "elif(a==\"*\"):\n",
        "  print(a*b)\n",
        "elif(a==\"/\"):\n",
        "  print(a/b)\n",
        "else:\n",
        "  print(\"wrong input\")"
      ],
      "metadata": {
        "colab": {
          "base_uri": "https://localhost:8080/"
        },
        "id": "2s76QzlcvhES",
        "outputId": "044ebdf3-0832-4937-e7a1-6dd7da435652"
      },
      "execution_count": null,
      "outputs": [
        {
          "output_type": "stream",
          "name": "stdout",
          "text": [
            "enter operand+\n",
            "enter two numbers8 9\n",
            "17\n"
          ]
        }
      ]
    },
    {
      "cell_type": "code",
      "source": [
        "a=input(\"enter a string\")\n",
        "count=0\n",
        "for i in a:\n",
        "  if (i==\"a\"or i==\"i\"or i==\"e\"or i==\"u\" or i==\"o\"):\n",
        "    count=count+1\n",
        "print(count)"
      ],
      "metadata": {
        "colab": {
          "base_uri": "https://localhost:8080/"
        },
        "id": "tLk0oJQUwpfh",
        "outputId": "5987ea06-c56c-4b85-e66c-932ff2a07ab6"
      },
      "execution_count": null,
      "outputs": [
        {
          "output_type": "stream",
          "name": "stdout",
          "text": [
            "enter a stringhello wolrd\n",
            "3\n"
          ]
        }
      ]
    },
    {
      "cell_type": "code",
      "source": [
        "a=[]\n",
        "n=int(input(\"no of elements\"))\n",
        "for i in range(0,n):\n",
        "  b=int(input())\n",
        "  a.append(b)\n",
        "  a.sort()\n",
        "  print(a[n-1])\n"
      ],
      "metadata": {
        "id": "9nFZqkO9ywRF"
      },
      "execution_count": null,
      "outputs": []
    },
    {
      "cell_type": "code",
      "source": [
        "a=input(\"enter a string\")\n",
        "str = a[::-1]\n",
        "print(str)\n"
      ],
      "metadata": {
        "colab": {
          "base_uri": "https://localhost:8080/"
        },
        "id": "HexWO4ds6Z3_",
        "outputId": "ab4696e6-8f72-4ec2-fb41-ce922fe1c5d0"
      },
      "execution_count": null,
      "outputs": [
        {
          "output_type": "stream",
          "name": "stdout",
          "text": [
            "enter a stringhrkk\n",
            "kkrh\n"
          ]
        }
      ]
    },
    {
      "cell_type": "code",
      "source": [
        "class calcu:\n",
        "  def add(x,y):\n",
        "    return x+y\n",
        "  def sub(x,y):\n",
        "    return x-y\n",
        "  def mult(x,y):\n",
        "    return x*y\n",
        "  def divide(x,y):\n",
        "    return x/y\n",
        "calc=calcu()\n",
        "b,c=map(int,(input(\"enter number\")).split())\n",
        "a=int(input(\"enter 1 to add...\"))\n",
        "if(a==1):\n",
        "  print(calc.add(b,c))\n",
        "elif(a==2):\n",
        "  print(calc.sub(b,c))\n",
        "elif(a==3):\n",
        "  print(calc.mult(b,c))\n",
        "elif(a==4):\n",
        "  print(calc.divide(b,c))\n",
        "\n"
      ],
      "metadata": {
        "colab": {
          "base_uri": "https://localhost:8080/",
          "height": 276
        },
        "id": "UleTgdTa8lEI",
        "outputId": "27d564e3-958c-4c1c-c90a-2f6dbfd97b9e"
      },
      "execution_count": null,
      "outputs": [
        {
          "name": "stdout",
          "output_type": "stream",
          "text": [
            "enter number7 8\n",
            "enter 1 to add...1\n"
          ]
        },
        {
          "output_type": "error",
          "ename": "TypeError",
          "evalue": "ignored",
          "traceback": [
            "\u001b[0;31m---------------------------------------------------------------------------\u001b[0m",
            "\u001b[0;31mTypeError\u001b[0m                                 Traceback (most recent call last)",
            "\u001b[0;32m<ipython-input-69-2ee6f35ed9ab>\u001b[0m in \u001b[0;36m<cell line: 13>\u001b[0;34m()\u001b[0m\n\u001b[1;32m     12\u001b[0m \u001b[0ma\u001b[0m\u001b[0;34m=\u001b[0m\u001b[0mint\u001b[0m\u001b[0;34m(\u001b[0m\u001b[0minput\u001b[0m\u001b[0;34m(\u001b[0m\u001b[0;34m\"enter 1 to add...\"\u001b[0m\u001b[0;34m)\u001b[0m\u001b[0;34m)\u001b[0m\u001b[0;34m\u001b[0m\u001b[0;34m\u001b[0m\u001b[0m\n\u001b[1;32m     13\u001b[0m \u001b[0;32mif\u001b[0m\u001b[0;34m(\u001b[0m\u001b[0ma\u001b[0m\u001b[0;34m==\u001b[0m\u001b[0;36m1\u001b[0m\u001b[0;34m)\u001b[0m\u001b[0;34m:\u001b[0m\u001b[0;34m\u001b[0m\u001b[0;34m\u001b[0m\u001b[0m\n\u001b[0;32m---> 14\u001b[0;31m   \u001b[0mprint\u001b[0m\u001b[0;34m(\u001b[0m\u001b[0mcalc\u001b[0m\u001b[0;34m.\u001b[0m\u001b[0madd\u001b[0m\u001b[0;34m(\u001b[0m\u001b[0mb\u001b[0m\u001b[0;34m,\u001b[0m\u001b[0mc\u001b[0m\u001b[0;34m)\u001b[0m\u001b[0;34m)\u001b[0m\u001b[0;34m\u001b[0m\u001b[0;34m\u001b[0m\u001b[0m\n\u001b[0m\u001b[1;32m     15\u001b[0m \u001b[0;32melif\u001b[0m\u001b[0;34m(\u001b[0m\u001b[0ma\u001b[0m\u001b[0;34m==\u001b[0m\u001b[0;36m2\u001b[0m\u001b[0;34m)\u001b[0m\u001b[0;34m:\u001b[0m\u001b[0;34m\u001b[0m\u001b[0;34m\u001b[0m\u001b[0m\n\u001b[1;32m     16\u001b[0m   \u001b[0mprint\u001b[0m\u001b[0;34m(\u001b[0m\u001b[0mcalc\u001b[0m\u001b[0;34m.\u001b[0m\u001b[0msub\u001b[0m\u001b[0;34m(\u001b[0m\u001b[0mb\u001b[0m\u001b[0;34m,\u001b[0m\u001b[0mc\u001b[0m\u001b[0;34m)\u001b[0m\u001b[0;34m)\u001b[0m\u001b[0;34m\u001b[0m\u001b[0;34m\u001b[0m\u001b[0m\n",
            "\u001b[0;31mTypeError\u001b[0m: calcu.add() takes 2 positional arguments but 3 were given"
          ]
        }
      ]
    },
    {
      "cell_type": "code",
      "source": [
        "class calcu:\n",
        "    @staticmethod\n",
        "    def add(x, y):\n",
        "        return x + y\n",
        "\n",
        "    @staticmethod\n",
        "    def sub(x, y):\n",
        "        return x - y\n",
        "\n",
        "    @staticmethod\n",
        "    def mult(x, y):\n",
        "        return x * y\n",
        "\n",
        "    @staticmethod\n",
        "    def divide(x, y):\n",
        "        if y == 0:\n",
        "            return \"Cannot divide by zero\"\n",
        "        return x / y\n",
        "\n",
        "calc = calcu()\n",
        "b, c = map(int, input(\"Enter two numbers separated by space: \").split())\n",
        "a = int(input(\"Enter 1 to add, 2 to subtract, 3 to multiply, 4 to divide: \"))\n",
        "\n",
        "if a == 1:\n",
        "    print(calc.add(b, c))\n",
        "elif a == 2:\n",
        "    print(calc.sub(b, c))\n",
        "elif a == 3:\n",
        "    print(calc.mult(b, c))\n",
        "elif a == 4:\n",
        "    result = calc.divide(b, c)\n",
        "    if isinstance(result, str):\n",
        "        print(result)\n",
        "    else:\n",
        "        print(result)\n",
        "else:\n",
        "    print(\"Invalid input\")\n"
      ],
      "metadata": {
        "id": "TawdLGwj-x1Y",
        "colab": {
          "base_uri": "https://localhost:8080/"
        },
        "outputId": "f8b8e77b-6674-423b-e118-f1b9717ed3d8"
      },
      "execution_count": null,
      "outputs": [
        {
          "output_type": "stream",
          "name": "stdout",
          "text": [
            "Enter two numbers separated by space: 6 8\n",
            "Enter 1 to add, 2 to subtract, 3 to multiply, 4 to divide: 1\n",
            "14\n"
          ]
        }
      ]
    },
    {
      "cell_type": "code",
      "source": [],
      "metadata": {
        "id": "KWDIvmHMAl_C"
      },
      "execution_count": null,
      "outputs": []
    }
  ]
}